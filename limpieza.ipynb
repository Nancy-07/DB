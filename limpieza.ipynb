{
 "cells": [
  {
   "cell_type": "code",
   "execution_count": null,
   "metadata": {},
   "outputs": [
    {
     "name": "stdout",
     "output_type": "stream",
     "text": [
      "4655\n"
     ]
    }
   ],
   "source": [
    "import pandas as pd \n",
    "from unidecode import unidecode\n",
    "import numpy as np\n",
    "archivo= 'LISTAC5.xls'\n",
    "hoja = 'Listado'\n",
    "df = pd.read_excel(archivo, sheet_name=hoja)\n",
    "df = df[[\"ETIQUETA\", \"NUMERO ANTERIOR\", \"TIPO\",\"DESCRIPCIÓN\",\"MODELO\",\"SERIE\"]]\n",
    "num = df.shape[0]\n",
    "print(num)\n",
    "\n",
    "df['DESCRIPCIÓN'] = df['DESCRIPCIÓN'].replace('-',np.nan)\n",
    "#df['DESCRIPCIÓN'] = df['DESCRIPCIÓN'].str.replace('\\n',' ')\n",
    "df['DESCRIPCIÓN'] = df['DESCRIPCIÓN'].str.replace(\"\",'',regex=False)\n",
    "\n",
    "df['MODELO'] = df['MODELO'].replace('SIN MARCA',np.nan)\n",
    "df['MODELO'] = df['MODELO'].replace('SIN MODELO',np.nan)\n",
    "df['MODELO'] = df['MODELO'].replace('S/M',np.nan)\n",
    "df['MODELO'] = df['MODELO'].replace('S/MOD',np.nan)\n",
    "\n",
    "df['SERIE'] = df['SERIE'].replace('SIN SERIE',np.nan)\n",
    "df['SERIE'] = df['SERIE'].replace('S/N',np.nan)\n",
    "df['SERIE'] = df['SERIE'].replace('S/M',np.nan)\n",
    "df['SERIE'] = df['SERIE'].replace('S/NUMERO',np.nan)\n",
    "\n",
    "df = df.fillna('S/N')\n",
    "\n",
    "df.to_csv('DATOS_1_3.csv', index= False)\n",
    "\n"
   ]
  }
 ],
 "metadata": {
  "kernelspec": {
   "display_name": "Python 3",
   "language": "python",
   "name": "python3"
  },
  "language_info": {
   "codemirror_mode": {
    "name": "ipython",
    "version": 3
   },
   "file_extension": ".py",
   "mimetype": "text/x-python",
   "name": "python",
   "nbconvert_exporter": "python",
   "pygments_lexer": "ipython3",
   "version": "3.12.6"
  }
 },
 "nbformat": 4,
 "nbformat_minor": 2
}
